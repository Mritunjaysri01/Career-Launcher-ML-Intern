{
  "nbformat": 4,
  "nbformat_minor": 0,
  "metadata": {
    "colab": {
      "name": "Module_3.ipynb",
      "provenance": [],
      "authorship_tag": "ABX9TyNMZFWa3t0ttc3iPiRGjnti",
      "include_colab_link": true
    },
    "kernelspec": {
      "name": "python3",
      "display_name": "Python 3"
    }
  },
  "cells": [
    {
      "cell_type": "markdown",
      "metadata": {
        "id": "view-in-github",
        "colab_type": "text"
      },
      "source": [
        "<a href=\"https://colab.research.google.com/github/Mritunjaysri01/Career-Launcher-ML-Intern/blob/master/Module_3.ipynb\" target=\"_parent\"><img src=\"https://colab.research.google.com/assets/colab-badge.svg\" alt=\"Open In Colab\"/></a>"
      ]
    },
    {
      "cell_type": "code",
      "metadata": {
        "id": "H274Zk_lix3i",
        "colab_type": "code",
        "colab": {
          "base_uri": "https://localhost:8080/",
          "height": 70
        },
        "outputId": "057ff136-674d-4a2e-ecef-a6d125298b82"
      },
      "source": [
        "import pandas as pd\n",
        "import numpy as np\n",
        "import matplotlib.pyplot as plt\n",
        "import warnings\n",
        "import seaborn as sns\n",
        "import statsmodels.api as sm\n",
        "from statsmodels.sandbox.regression.predstd import wls_prediction_std\n",
        "warnings.filterwarnings('ignore')"
      ],
      "execution_count": 17,
      "outputs": [
        {
          "output_type": "stream",
          "text": [
            "/usr/local/lib/python3.6/dist-packages/statsmodels/tools/_testing.py:19: FutureWarning: pandas.util.testing is deprecated. Use the functions in the public API at pandas.testing instead.\n",
            "  import pandas.util.testing as tm\n"
          ],
          "name": "stderr"
        }
      ]
    },
    {
      "cell_type": "code",
      "metadata": {
        "id": "L4I_KjlFi2FM",
        "colab_type": "code",
        "colab": {}
      },
      "source": [
        "dataset_gold=pd.read_csv('GOLD.csv')"
      ],
      "execution_count": 0,
      "outputs": []
    },
    {
      "cell_type": "code",
      "metadata": {
        "id": "rd7Exemqi5zr",
        "colab_type": "code",
        "colab": {
          "base_uri": "https://localhost:8080/",
          "height": 191
        },
        "outputId": "10b6fc4f-0646-4782-f1e5-e5f69247ee2d"
      },
      "source": [
        "dataset_gold.head()"
      ],
      "execution_count": 19,
      "outputs": [
        {
          "output_type": "execute_result",
          "data": {
            "text/html": [
              "<div>\n",
              "<style scoped>\n",
              "    .dataframe tbody tr th:only-of-type {\n",
              "        vertical-align: middle;\n",
              "    }\n",
              "\n",
              "    .dataframe tbody tr th {\n",
              "        vertical-align: top;\n",
              "    }\n",
              "\n",
              "    .dataframe thead th {\n",
              "        text-align: right;\n",
              "    }\n",
              "</style>\n",
              "<table border=\"1\" class=\"dataframe\">\n",
              "  <thead>\n",
              "    <tr style=\"text-align: right;\">\n",
              "      <th></th>\n",
              "      <th>Date</th>\n",
              "      <th>Price</th>\n",
              "      <th>Open</th>\n",
              "      <th>High</th>\n",
              "      <th>Low</th>\n",
              "      <th>Vol.</th>\n",
              "      <th>Change %</th>\n",
              "      <th>Pred</th>\n",
              "      <th>new</th>\n",
              "    </tr>\n",
              "  </thead>\n",
              "  <tbody>\n",
              "    <tr>\n",
              "      <th>0</th>\n",
              "      <td>May 04, 2017</td>\n",
              "      <td>28060</td>\n",
              "      <td>28400</td>\n",
              "      <td>28482</td>\n",
              "      <td>28025</td>\n",
              "      <td>0.08K</td>\n",
              "      <td>-1.79%</td>\n",
              "      <td>738.0</td>\n",
              "      <td>117.570740</td>\n",
              "    </tr>\n",
              "    <tr>\n",
              "      <th>1</th>\n",
              "      <td>May 05, 2017</td>\n",
              "      <td>28184</td>\n",
              "      <td>28136</td>\n",
              "      <td>28382</td>\n",
              "      <td>28135</td>\n",
              "      <td>0.06K</td>\n",
              "      <td>0.44%</td>\n",
              "      <td>-146.0</td>\n",
              "      <td>295.430176</td>\n",
              "    </tr>\n",
              "    <tr>\n",
              "      <th>2</th>\n",
              "      <td>May 08, 2017</td>\n",
              "      <td>28119</td>\n",
              "      <td>28145</td>\n",
              "      <td>28255</td>\n",
              "      <td>28097</td>\n",
              "      <td>7.85K</td>\n",
              "      <td>-0.23%</td>\n",
              "      <td>30.0</td>\n",
              "      <td>132.123714</td>\n",
              "    </tr>\n",
              "    <tr>\n",
              "      <th>3</th>\n",
              "      <td>May 09, 2017</td>\n",
              "      <td>27981</td>\n",
              "      <td>28125</td>\n",
              "      <td>28192</td>\n",
              "      <td>27947</td>\n",
              "      <td>10.10K</td>\n",
              "      <td>-0.49%</td>\n",
              "      <td>357.0</td>\n",
              "      <td>101.298064</td>\n",
              "    </tr>\n",
              "    <tr>\n",
              "      <th>4</th>\n",
              "      <td>May 10, 2017</td>\n",
              "      <td>28007</td>\n",
              "      <td>28060</td>\n",
              "      <td>28146</td>\n",
              "      <td>27981</td>\n",
              "      <td>9.28K</td>\n",
              "      <td>0.09%</td>\n",
              "      <td>124.0</td>\n",
              "      <td>112.153318</td>\n",
              "    </tr>\n",
              "  </tbody>\n",
              "</table>\n",
              "</div>"
            ],
            "text/plain": [
              "           Date  Price   Open   High    Low    Vol. Change %   Pred         new\n",
              "0  May 04, 2017  28060  28400  28482  28025   0.08K   -1.79%  738.0  117.570740\n",
              "1  May 05, 2017  28184  28136  28382  28135   0.06K    0.44% -146.0  295.430176\n",
              "2  May 08, 2017  28119  28145  28255  28097   7.85K   -0.23%   30.0  132.123714\n",
              "3  May 09, 2017  27981  28125  28192  27947  10.10K   -0.49%  357.0  101.298064\n",
              "4  May 10, 2017  28007  28060  28146  27981   9.28K    0.09%  124.0  112.153318"
            ]
          },
          "metadata": {
            "tags": []
          },
          "execution_count": 19
        }
      ]
    },
    {
      "cell_type": "code",
      "metadata": {
        "id": "XeO7LVsIi8qD",
        "colab_type": "code",
        "colab": {
          "base_uri": "https://localhost:8080/",
          "height": 191
        },
        "outputId": "ad4d2d23-ab4d-428c-e4ee-ba402c416617"
      },
      "source": [
        "dataset_gold.tail()"
      ],
      "execution_count": 20,
      "outputs": [
        {
          "output_type": "execute_result",
          "data": {
            "text/html": [
              "<div>\n",
              "<style scoped>\n",
              "    .dataframe tbody tr th:only-of-type {\n",
              "        vertical-align: middle;\n",
              "    }\n",
              "\n",
              "    .dataframe tbody tr th {\n",
              "        vertical-align: top;\n",
              "    }\n",
              "\n",
              "    .dataframe thead th {\n",
              "        text-align: right;\n",
              "    }\n",
              "</style>\n",
              "<table border=\"1\" class=\"dataframe\">\n",
              "  <thead>\n",
              "    <tr style=\"text-align: right;\">\n",
              "      <th></th>\n",
              "      <th>Date</th>\n",
              "      <th>Price</th>\n",
              "      <th>Open</th>\n",
              "      <th>High</th>\n",
              "      <th>Low</th>\n",
              "      <th>Vol.</th>\n",
              "      <th>Change %</th>\n",
              "      <th>Pred</th>\n",
              "      <th>new</th>\n",
              "    </tr>\n",
              "  </thead>\n",
              "  <tbody>\n",
              "    <tr>\n",
              "      <th>507</th>\n",
              "      <td>Apr 26, 2019</td>\n",
              "      <td>31868</td>\n",
              "      <td>31851</td>\n",
              "      <td>31934</td>\n",
              "      <td>31705</td>\n",
              "      <td>9.67K</td>\n",
              "      <td>0.08%</td>\n",
              "      <td>NaN</td>\n",
              "      <td>247.177322</td>\n",
              "    </tr>\n",
              "    <tr>\n",
              "      <th>508</th>\n",
              "      <td>Apr 30, 2019</td>\n",
              "      <td>31625</td>\n",
              "      <td>31800</td>\n",
              "      <td>31824</td>\n",
              "      <td>31597</td>\n",
              "      <td>6.44K</td>\n",
              "      <td>-0.76%</td>\n",
              "      <td>NaN</td>\n",
              "      <td>52.201158</td>\n",
              "    </tr>\n",
              "    <tr>\n",
              "      <th>509</th>\n",
              "      <td>May 01, 2019</td>\n",
              "      <td>31563</td>\n",
              "      <td>31604</td>\n",
              "      <td>31657</td>\n",
              "      <td>31503</td>\n",
              "      <td>1.55K</td>\n",
              "      <td>-0.20%</td>\n",
              "      <td>NaN</td>\n",
              "      <td>113.293305</td>\n",
              "    </tr>\n",
              "    <tr>\n",
              "      <th>510</th>\n",
              "      <td>May 02, 2019</td>\n",
              "      <td>31203</td>\n",
              "      <td>31420</td>\n",
              "      <td>31425</td>\n",
              "      <td>31160</td>\n",
              "      <td>0.48K</td>\n",
              "      <td>-1.14%</td>\n",
              "      <td>NaN</td>\n",
              "      <td>48.365693</td>\n",
              "    </tr>\n",
              "    <tr>\n",
              "      <th>511</th>\n",
              "      <td>May 03, 2019</td>\n",
              "      <td>31341</td>\n",
              "      <td>31250</td>\n",
              "      <td>31500</td>\n",
              "      <td>31163</td>\n",
              "      <td>0.08K</td>\n",
              "      <td>0.44%</td>\n",
              "      <td>NaN</td>\n",
              "      <td>429.924911</td>\n",
              "    </tr>\n",
              "  </tbody>\n",
              "</table>\n",
              "</div>"
            ],
            "text/plain": [
              "             Date  Price   Open   High    Low   Vol. Change %  Pred         new\n",
              "507  Apr 26, 2019  31868  31851  31934  31705  9.67K    0.08%   NaN  247.177322\n",
              "508  Apr 30, 2019  31625  31800  31824  31597  6.44K   -0.76%   NaN   52.201158\n",
              "509  May 01, 2019  31563  31604  31657  31503  1.55K   -0.20%   NaN  113.293305\n",
              "510  May 02, 2019  31203  31420  31425  31160  0.48K   -1.14%   NaN   48.365693\n",
              "511  May 03, 2019  31341  31250  31500  31163  0.08K    0.44%   NaN  429.924911"
            ]
          },
          "metadata": {
            "tags": []
          },
          "execution_count": 20
        }
      ]
    },
    {
      "cell_type": "code",
      "metadata": {
        "id": "l7XfK1Hmi_5E",
        "colab_type": "code",
        "colab": {
          "base_uri": "https://localhost:8080/",
          "height": 277
        },
        "outputId": "eabc6fd7-13c7-4637-a88b-cbccbcc22cec"
      },
      "source": [
        "dataset_gold.describe()"
      ],
      "execution_count": 21,
      "outputs": [
        {
          "output_type": "execute_result",
          "data": {
            "text/html": [
              "<div>\n",
              "<style scoped>\n",
              "    .dataframe tbody tr th:only-of-type {\n",
              "        vertical-align: middle;\n",
              "    }\n",
              "\n",
              "    .dataframe tbody tr th {\n",
              "        vertical-align: top;\n",
              "    }\n",
              "\n",
              "    .dataframe thead th {\n",
              "        text-align: right;\n",
              "    }\n",
              "</style>\n",
              "<table border=\"1\" class=\"dataframe\">\n",
              "  <thead>\n",
              "    <tr style=\"text-align: right;\">\n",
              "      <th></th>\n",
              "      <th>Price</th>\n",
              "      <th>Open</th>\n",
              "      <th>High</th>\n",
              "      <th>Low</th>\n",
              "      <th>Pred</th>\n",
              "      <th>new</th>\n",
              "    </tr>\n",
              "  </thead>\n",
              "  <tbody>\n",
              "    <tr>\n",
              "      <th>count</th>\n",
              "      <td>512.000000</td>\n",
              "      <td>512.000000</td>\n",
              "      <td>512.000000</td>\n",
              "      <td>512.000000</td>\n",
              "      <td>411.000000</td>\n",
              "      <td>512.000000</td>\n",
              "    </tr>\n",
              "    <tr>\n",
              "      <th>mean</th>\n",
              "      <td>30364.583984</td>\n",
              "      <td>30368.412109</td>\n",
              "      <td>30491.089844</td>\n",
              "      <td>30243.320312</td>\n",
              "      <td>341.712895</td>\n",
              "      <td>245.161859</td>\n",
              "    </tr>\n",
              "    <tr>\n",
              "      <th>std</th>\n",
              "      <td>1284.378623</td>\n",
              "      <td>1296.856656</td>\n",
              "      <td>1307.031684</td>\n",
              "      <td>1271.936410</td>\n",
              "      <td>271.075609</td>\n",
              "      <td>205.788897</td>\n",
              "    </tr>\n",
              "    <tr>\n",
              "      <th>min</th>\n",
              "      <td>27812.000000</td>\n",
              "      <td>27805.000000</td>\n",
              "      <td>27887.000000</td>\n",
              "      <td>27620.000000</td>\n",
              "      <td>-146.000000</td>\n",
              "      <td>11.109814</td>\n",
              "    </tr>\n",
              "    <tr>\n",
              "      <th>25%</th>\n",
              "      <td>29432.500000</td>\n",
              "      <td>29436.750000</td>\n",
              "      <td>29499.750000</td>\n",
              "      <td>29345.750000</td>\n",
              "      <td>156.500000</td>\n",
              "      <td>101.369172</td>\n",
              "    </tr>\n",
              "    <tr>\n",
              "      <th>50%</th>\n",
              "      <td>30427.500000</td>\n",
              "      <td>30399.500000</td>\n",
              "      <td>30545.000000</td>\n",
              "      <td>30286.000000</td>\n",
              "      <td>299.000000</td>\n",
              "      <td>184.537244</td>\n",
              "    </tr>\n",
              "    <tr>\n",
              "      <th>75%</th>\n",
              "      <td>31271.750000</td>\n",
              "      <td>31300.000000</td>\n",
              "      <td>31447.500000</td>\n",
              "      <td>31160.750000</td>\n",
              "      <td>475.000000</td>\n",
              "      <td>320.835031</td>\n",
              "    </tr>\n",
              "    <tr>\n",
              "      <th>max</th>\n",
              "      <td>33753.000000</td>\n",
              "      <td>34247.000000</td>\n",
              "      <td>34400.000000</td>\n",
              "      <td>33680.000000</td>\n",
              "      <td>2210.000000</td>\n",
              "      <td>1407.321485</td>\n",
              "    </tr>\n",
              "  </tbody>\n",
              "</table>\n",
              "</div>"
            ],
            "text/plain": [
              "              Price          Open  ...         Pred          new\n",
              "count    512.000000    512.000000  ...   411.000000   512.000000\n",
              "mean   30364.583984  30368.412109  ...   341.712895   245.161859\n",
              "std     1284.378623   1296.856656  ...   271.075609   205.788897\n",
              "min    27812.000000  27805.000000  ...  -146.000000    11.109814\n",
              "25%    29432.500000  29436.750000  ...   156.500000   101.369172\n",
              "50%    30427.500000  30399.500000  ...   299.000000   184.537244\n",
              "75%    31271.750000  31300.000000  ...   475.000000   320.835031\n",
              "max    33753.000000  34247.000000  ...  2210.000000  1407.321485\n",
              "\n",
              "[8 rows x 6 columns]"
            ]
          },
          "metadata": {
            "tags": []
          },
          "execution_count": 21
        }
      ]
    },
    {
      "cell_type": "code",
      "metadata": {
        "id": "wAnXJOHMjCq-",
        "colab_type": "code",
        "colab": {}
      },
      "source": [
        "df=dataset_gold.dropna()"
      ],
      "execution_count": 0,
      "outputs": []
    },
    {
      "cell_type": "code",
      "metadata": {
        "id": "XEDKytHfjGx2",
        "colab_type": "code",
        "colab": {
          "base_uri": "https://localhost:8080/",
          "height": 295
        },
        "outputId": "af010780-aec4-418e-8625-ba3b75c079e2"
      },
      "source": [
        "sns.distplot(df['Pred'])"
      ],
      "execution_count": 24,
      "outputs": [
        {
          "output_type": "execute_result",
          "data": {
            "text/plain": [
              "<matplotlib.axes._subplots.AxesSubplot at 0x7fc169f4deb8>"
            ]
          },
          "metadata": {
            "tags": []
          },
          "execution_count": 24
        },
        {
          "output_type": "display_data",
          "data": {
            "image/png": "[encoded data removed]",
            "text/plain": [
              "<Figure size 432x288 with 1 Axes>"
            ]
          },
          "metadata": {
            "tags": [],
            "needs_background": "light"
          }
        }
      ]
    },
    {
      "cell_type": "code",
      "metadata": {
        "id": "nQwOUyGLjJVI",
        "colab_type": "code",
        "colab": {
          "base_uri": "https://localhost:8080/",
          "height": 295
        },
        "outputId": "0b10689c-5282-4736-a881-dc283a50ee90"
      },
      "source": [
        "sns.distplot(df['new'])"
      ],
      "execution_count": 25,
      "outputs": [
        {
          "output_type": "execute_result",
          "data": {
            "text/plain": [
              "<matplotlib.axes._subplots.AxesSubplot at 0x7fc169e8f940>"
            ]
          },
          "metadata": {
            "tags": []
          },
          "execution_count": 25
        },
        {
          "output_type": "display_data",
          "data": {
            "image/png": "[encoded data removed]",
            "text/plain": [
              "<Figure size 432x288 with 1 Axes>"
            ]
          },
          "metadata": {
            "tags": [],
            "needs_background": "light"
          }
        }
      ]
    },
    {
      "cell_type": "markdown",
      "metadata": {
        "id": "FR98hCCQjaRJ",
        "colab_type": "text"
      },
      "source": [
        "Multiple Linear Regression on 'Pred' Column"
      ]
    },
    {
      "cell_type": "code",
      "metadata": {
        "id": "3j9JKD20jXM4",
        "colab_type": "code",
        "colab": {}
      },
      "source": [
        "X=df.iloc[:,1:5]\n",
        "y=df.iloc[:,7]"
      ],
      "execution_count": 0,
      "outputs": []
    },
    {
      "cell_type": "code",
      "metadata": {
        "id": "ryWqOtkEjpgM",
        "colab_type": "code",
        "colab": {}
      },
      "source": [
        "from sklearn.model_selection import train_test_split\n",
        "X_train,X_test,y_train,y_test=train_test_split(X,y,test_size=0.2,random_state=0)"
      ],
      "execution_count": 0,
      "outputs": []
    },
    {
      "cell_type": "code",
      "metadata": {
        "id": "mRRVsjmRjsGG",
        "colab_type": "code",
        "colab": {
          "base_uri": "https://localhost:8080/",
          "height": 33
        },
        "outputId": "cf9586b3-c2da-4c2f-ee9f-a7efb57f7176"
      },
      "source": [
        "from sklearn.linear_model import LinearRegression\n",
        "regressor=LinearRegression()\n",
        "regressor.fit(X_train,y_train)"
      ],
      "execution_count": 29,
      "outputs": [
        {
          "output_type": "execute_result",
          "data": {
            "text/plain": [
              "LinearRegression(copy_X=True, fit_intercept=True, n_jobs=None, normalize=False)"
            ]
          },
          "metadata": {
            "tags": []
          },
          "execution_count": 29
        }
      ]
    },
    {
      "cell_type": "code",
      "metadata": {
        "id": "_ETEo7Djj1XO",
        "colab_type": "code",
        "colab": {}
      },
      "source": [
        "y_pred=regressor.predict(X_test)"
      ],
      "execution_count": 0,
      "outputs": []
    },
    {
      "cell_type": "code",
      "metadata": {
        "id": "TMYXUFk4j56I",
        "colab_type": "code",
        "colab": {
          "base_uri": "https://localhost:8080/",
          "height": 33
        },
        "outputId": "4be8fc17-3fd1-4bbf-c9e8-d5e25749f813"
      },
      "source": [
        "# Measuring Accuracy using r2 score\n",
        "from sklearn import metrics\n",
        "metrics.r2_score(y_test, y_pred)"
      ],
      "execution_count": 31,
      "outputs": [
        {
          "output_type": "execute_result",
          "data": {
            "text/plain": [
              "1.0"
            ]
          },
          "metadata": {
            "tags": []
          },
          "execution_count": 31
        }
      ]
    },
    {
      "cell_type": "code",
      "metadata": {
        "id": "6cNykrmkj9Bi",
        "colab_type": "code",
        "colab": {}
      },
      "source": [
        "df2=dataset_gold"
      ],
      "execution_count": 0,
      "outputs": []
    },
    {
      "cell_type": "code",
      "metadata": {
        "id": "oZFZvrZ9j_Uu",
        "colab_type": "code",
        "colab": {}
      },
      "source": [
        "#Replacing the NaN values in Pred Column\n",
        "for i in range(len(df2)):\n",
        "    if np.isnan(df2['Pred'].iloc[i]):\n",
        "        X1=df2[['Price','Open','High','Low']].iloc[i].values\n",
        "        df2['Pred'][i]=regressor.predict(X1.reshape(1,-1))"
      ],
      "execution_count": 0,
      "outputs": []
    },
    {
      "cell_type": "markdown",
      "metadata": {
        "id": "QaTBxQI1kCLK",
        "colab_type": "text"
      },
      "source": [
        "Polynomial Linear Regression on 'New' Column"
      ]
    },
    {
      "cell_type": "code",
      "metadata": {
        "id": "nl7DhongkBoY",
        "colab_type": "code",
        "colab": {}
      },
      "source": [
        "X=dataset_gold.iloc[:,1:5]\n",
        "y=dataset_gold.iloc[:,8]"
      ],
      "execution_count": 0,
      "outputs": []
    },
    {
      "cell_type": "code",
      "metadata": {
        "id": "zZwR9qSVkGH9",
        "colab_type": "code",
        "colab": {}
      },
      "source": [
        "from sklearn.model_selection import train_test_split\n",
        "X_train,X_test,y_train,y_test=train_test_split(X,y,test_size=0.2,random_state=0)"
      ],
      "execution_count": 0,
      "outputs": []
    },
    {
      "cell_type": "code",
      "metadata": {
        "id": "15_qynSikIM3",
        "colab_type": "code",
        "colab": {
          "base_uri": "https://localhost:8080/",
          "height": 33
        },
        "outputId": "658ef8ad-de8e-483f-eb63-789fe2af6966"
      },
      "source": [
        "from sklearn.preprocessing import PolynomialFeatures\n",
        "poly_reg = PolynomialFeatures(degree = 2)#Checked for degree 2,3,4\n",
        "X_poly = poly_reg.fit_transform(X_train)\n",
        "poly_reg.fit(X_poly, y_train)\n",
        "lin_reg = LinearRegression()\n",
        "lin_reg.fit(X_poly, y_train)"
      ],
      "execution_count": 36,
      "outputs": [
        {
          "output_type": "execute_result",
          "data": {
            "text/plain": [
              "LinearRegression(copy_X=True, fit_intercept=True, n_jobs=None, normalize=False)"
            ]
          },
          "metadata": {
            "tags": []
          },
          "execution_count": 36
        }
      ]
    },
    {
      "cell_type": "code",
      "metadata": {
        "id": "vhTcRyotkK7T",
        "colab_type": "code",
        "colab": {}
      },
      "source": [
        "y_pred=lin_reg.predict(poly_reg.fit_transform(X_test))"
      ],
      "execution_count": 0,
      "outputs": []
    },
    {
      "cell_type": "code",
      "metadata": {
        "id": "3Gh2HOWgkM2S",
        "colab_type": "code",
        "colab": {
          "base_uri": "https://localhost:8080/",
          "height": 33
        },
        "outputId": "82f6bac1-6bb2-4496-c700-29016f1eccae"
      },
      "source": [
        "# Measuring Accuracy using r2 score\n",
        "metrics.r2_score(y_test, y_pred)"
      ],
      "execution_count": 38,
      "outputs": [
        {
          "output_type": "execute_result",
          "data": {
            "text/plain": [
              "0.9999999892837665"
            ]
          },
          "metadata": {
            "tags": []
          },
          "execution_count": 38
        }
      ]
    },
    {
      "cell_type": "markdown",
      "metadata": {
        "id": "I3SG_TqjkSIU",
        "colab_type": "text"
      },
      "source": [
        " Query **3.2**"
      ]
    },
    {
      "cell_type": "code",
      "metadata": {
        "id": "dclOOHYFkW4h",
        "colab_type": "code",
        "colab": {}
      },
      "source": [
        "nifty=pd.read_csv('Nifty50.csv')\n",
        "bajaj=pd.read_csv('BAJAJELEC.csv')"
      ],
      "execution_count": 0,
      "outputs": []
    },
    {
      "cell_type": "code",
      "metadata": {
        "id": "VrY1vt3-koX8",
        "colab_type": "code",
        "colab": {}
      },
      "source": [
        "df=nifty[-63:]\n",
        "X=df['Close'].pct_change()*100\n",
        "df=bajaj[-63:]\n",
        "y=df['Close Price'].pct_change()*100\n",
        "X=X.dropna()\n",
        "y=y.dropna()"
      ],
      "execution_count": 0,
      "outputs": []
    },
    {
      "cell_type": "code",
      "metadata": {
        "id": "ePEkGF2Ekqmm",
        "colab_type": "code",
        "colab": {}
      },
      "source": [
        "X = sm.add_constant(X)\n",
        "model=sm.OLS(y,X)\n",
        "results=model.fit()"
      ],
      "execution_count": 0,
      "outputs": []
    },
    {
      "cell_type": "code",
      "metadata": {
        "id": "xB7uTVXiksO8",
        "colab_type": "code",
        "colab": {
          "base_uri": "https://localhost:8080/",
          "height": 33
        },
        "outputId": "035e8cca-eaba-4ff7-c790-33eeed810af0"
      },
      "source": [
        "beta=results.params\n",
        "print('\\033[1m' + 'The Daily beta value for past three month is ' + '\\033[0m' + str(beta['Close']))"
      ],
      "execution_count": 42,
      "outputs": [
        {
          "output_type": "stream",
          "text": [
            "\u001b[1mThe Daily beta value for past three month is \u001b[0m1.5812125267239854\n"
          ],
          "name": "stdout"
        }
      ]
    },
    {
      "cell_type": "code",
      "metadata": {
        "id": "P7QnxqXSkuAS",
        "colab_type": "code",
        "colab": {}
      },
      "source": [
        "df=pd.DataFrame()\n",
        "df['Date']=nifty['Date']\n",
        "df['Market']=nifty['Close']\n",
        "df['Stock']=bajaj['Close Price']\n",
        "df[\"Date\"]=pd.to_datetime(df[\"Date\"])"
      ],
      "execution_count": 0,
      "outputs": []
    },
    {
      "cell_type": "code",
      "metadata": {
        "id": "3wfDkucikv_q",
        "colab_type": "code",
        "colab": {}
      },
      "source": [
        "df[\"Month\"]=df[\"Date\"].dt.month\n",
        "df[\"Year\"]=df[\"Date\"].dt.year\n",
        "df2 = df.groupby(['Year', 'Month'])"
      ],
      "execution_count": 0,
      "outputs": []
    },
    {
      "cell_type": "code",
      "metadata": {
        "id": "H-CH5PEKkxcR",
        "colab_type": "code",
        "colab": {}
      },
      "source": [
        "def total_return(prices):\n",
        "    return (prices.iloc[0]-prices.iloc[-1]) / prices.iloc[0] * 100"
      ],
      "execution_count": 0,
      "outputs": []
    },
    {
      "cell_type": "code",
      "metadata": {
        "id": "5-UatE62ky75",
        "colab_type": "code",
        "colab": {}
      },
      "source": [
        "X=df2['Market'].apply(total_return)\n",
        "y=df2['Stock'].apply(total_return)"
      ],
      "execution_count": 0,
      "outputs": []
    },
    {
      "cell_type": "code",
      "metadata": {
        "id": "gkYKRk4Ak2VE",
        "colab_type": "code",
        "colab": {}
      },
      "source": [
        "X = sm.add_constant(X)\n",
        "model=sm.OLS(y,X)\n",
        "results=model.fit()"
      ],
      "execution_count": 0,
      "outputs": []
    },
    {
      "cell_type": "code",
      "metadata": {
        "id": "bHQGfUAyk6fF",
        "colab_type": "code",
        "colab": {
          "base_uri": "https://localhost:8080/",
          "height": 33
        },
        "outputId": "ed1b2878-5640-4019-cfc5-e99f2db3d81e"
      },
      "source": [
        "beta=results.params\n",
        "print('\\033[1m' + 'The Monthly beta value is ' + '\\033[0m' + str(beta['Market']))"
      ],
      "execution_count": 48,
      "outputs": [
        {
          "output_type": "stream",
          "text": [
            "\u001b[1mThe Monthly beta value is \u001b[0m0.830854430107087\n"
          ],
          "name": "stdout"
        }
      ]
    },
    {
      "cell_type": "code",
      "metadata": {
        "id": "5AGL-dA9k8nJ",
        "colab_type": "code",
        "colab": {}
      },
      "source": [
        ""
      ],
      "execution_count": 0,
      "outputs": []
    }
  ]
}