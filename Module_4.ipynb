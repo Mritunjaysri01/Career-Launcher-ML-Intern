{
  "nbformat": 4,
  "nbformat_minor": 0,
  "metadata": {
    "colab": {
      "name": "Module_4.ipynb",
      "provenance": [],
      "authorship_tag": "ABX9TyONc5ktaaiTz6bUJVtgVRGj",
      "include_colab_link": true
    },
    "kernelspec": {
      "name": "python3",
      "display_name": "Python 3"
    }
  },
  "cells": [
    {
      "cell_type": "markdown",
      "metadata": {
        "id": "view-in-github",
        "colab_type": "text"
      },
      "source": [
        "<a href=\"https://colab.research.google.com/github/Mritunjaysri01/Career-Launcher-ML-Intern/blob/master/Module_4.ipynb\" target=\"_parent\"><img src=\"https://colab.research.google.com/assets/colab-badge.svg\" alt=\"Open In Colab\"/></a>"
      ]
    },
    {
      "cell_type": "code",
      "metadata": {
        "id": "PQRW5gkevVHX",
        "colab_type": "code",
        "colab": {}
      },
      "source": [
        "import pandas as pd\n",
        "import numpy as np\n",
        "# import seaborn as sns\n",
        "from matplotlib import pyplot as plt"
      ],
      "execution_count": 0,
      "outputs": []
    },
    {
      "cell_type": "code",
      "metadata": {
        "id": "suM_3AMvxGWD",
        "colab_type": "code",
        "colab": {}
      },
      "source": [
        "ndf = pd.read_csv('Nifty50.csv')\n",
        "ndf.Date = pd.to_datetime(ndf['Date'])\n",
        "\n",
        "ndf['bollinger'] = ndf['Close'].rolling(14).mean()\n",
        "std = ndf['Close'].rolling(14).std()\n",
        "ndf['upper'] = ndf['bollinger'] + 2 * std \n",
        "ndf['lower'] = ndf['bollinger'] - 2 * std\n",
        "ndf = ndf.dropna()\n",
        "\n",
        "conditions = [\n",
        "    (ndf.Open < ndf['lower']),\n",
        "    (ndf.Open > ndf['lower']) & (ndf.Open < ndf[\"bollinger\"]),\n",
        "    (ndf.Open < ndf['upper']) & (ndf.Open > ndf[\"bollinger\"]),\n",
        "    (ndf.Open > ndf['upper'])\n",
        "    ]\n",
        "\n",
        "choices = ['Buy', 'Hold Buy', 'Hold Short', \"Short\"]\n",
        "ndf[\"Call\"] = np.select(conditions, choices) \n",
        "# print(ndf.head(10))"
      ],
      "execution_count": 0,
      "outputs": []
    },
    {
      "cell_type": "code",
      "metadata": {
        "id": "K0jFKV7xxJZz",
        "colab_type": "code",
        "colab": {
          "base_uri": "https://localhost:8080/",
          "height": 33
        },
        "outputId": "161519ca-861f-43a1-f2a3-dbca9ff33ac6"
      },
      "source": [
        "from sklearn.model_selection import train_test_split\n",
        "\n",
        "X = ndf[['lower','bollinger', 'upper']].values\n",
        "Y = ndf[\"Call\"].values\n",
        "X_train, X_test, Y_train, Y_test = train_test_split(X, Y, test_size=0.3, random_state=42)\n",
        "\n",
        "# __________________________ KNN ___________________________________\n",
        "from sklearn.neighbors import KNeighborsClassifier\n",
        "\n",
        "knn = KNeighborsClassifier(4, n_jobs=-1)\n",
        "knn.fit(X_train, Y_train)\n",
        "\n",
        "print(\"KNN\\'s Score = \", knn.score(X_test, Y_test))"
      ],
      "execution_count": 3,
      "outputs": [
        {
          "output_type": "stream",
          "text": [
            "KNN's Score =  0.6\n"
          ],
          "name": "stdout"
        }
      ]
    },
    {
      "cell_type": "code",
      "metadata": {
        "id": "KH0_ySPdxL4j",
        "colab_type": "code",
        "colab": {
          "base_uri": "https://localhost:8080/",
          "height": 33
        },
        "outputId": "8f0327f0-f067-4c5c-d4c2-039883690916"
      },
      "source": [
        "# __________________________ SVM ___________________________________\n",
        "from sklearn import svm\n",
        "\n",
        "clf = svm.SVC(gamma='auto', decision_function_shape='ovo')\n",
        "clf.fit(X_train, Y_train)\n",
        "print(\"SVM\\'s Score = \", clf.score(X_test, Y_test))"
      ],
      "execution_count": 4,
      "outputs": [
        {
          "output_type": "stream",
          "text": [
            "SVM's Score =  0.6206896551724138\n"
          ],
          "name": "stdout"
        }
      ]
    },
    {
      "cell_type": "code",
      "metadata": {
        "id": "QhylRxpcxPa5",
        "colab_type": "code",
        "colab": {
          "base_uri": "https://localhost:8080/",
          "height": 33
        },
        "outputId": "b151fbac-d0b3-4550-fc40-05e837242820"
      },
      "source": [
        "# ________________________ Decision Tree ____________________________\n",
        "from sklearn import tree\n",
        "\n",
        "tree = tree.DecisionTreeClassifier().fit(X_train, Y_train)\n",
        "print(\"Tree\\'s Score\", tree.score(X_test, Y_test))"
      ],
      "execution_count": 5,
      "outputs": [
        {
          "output_type": "stream",
          "text": [
            "Tree's Score 0.6\n"
          ],
          "name": "stdout"
        }
      ]
    },
    {
      "cell_type": "code",
      "metadata": {
        "id": "kUvbo1agxR2s",
        "colab_type": "code",
        "colab": {
          "base_uri": "https://localhost:8080/",
          "height": 115
        },
        "outputId": "960321d9-531a-4604-b29f-9bced3a750ae"
      },
      "source": [
        "# _________________________ On Other Data ____________________________\n",
        "hdf = pd.read_csv('RAYMOND.csv')\n",
        "hdf = hdf[hdf[\"Series\"] == \"EQ\"]\n",
        "hdf.Date = pd.to_datetime(hdf['Date'])\n",
        "\n",
        "hdf['bollinger'] = hdf['Close Price'].rolling(14).mean()\n",
        "std = hdf['Close Price'].rolling(14).std()\n",
        "hdf['upper'] = hdf['bollinger'] + 2 * std \n",
        "hdf['lower'] = hdf['bollinger'] - 2 * std\n",
        "hdf = hdf.dropna()\n",
        "\n",
        "# Using SVM Model\n",
        "X = hdf[['lower','bollinger', 'upper']].values\n",
        "hdf[\"Call Pridicted\"] = clf.predict(X)\n",
        "print(hdf[[\"Open Price\", 'bollinger', 'upper', 'lower', 'Call Pridicted']].head(5))"
      ],
      "execution_count": 9,
      "outputs": [
        {
          "output_type": "stream",
          "text": [
            "    Open Price   bollinger       upper       lower Call Pridicted\n",
            "13       696.0  719.125000  797.274834  640.975166     Hold Short\n",
            "14       707.8  714.114286  786.199614  642.028958     Hold Short\n",
            "15       705.1  711.703571  775.339247  648.067896     Hold Short\n",
            "16       756.0  707.760714  757.521313  658.000115     Hold Short\n",
            "17       730.0  706.482143  752.698783  660.265502     Hold Short\n"
          ],
          "name": "stdout"
        }
      ]
    },
    {
      "cell_type": "markdown",
      "metadata": {
        "id": "76frfsntyDwJ",
        "colab_type": "text"
      },
      "source": [
        "4.2"
      ]
    },
    {
      "cell_type": "code",
      "metadata": {
        "id": "t2LU5ZgkxZWi",
        "colab_type": "code",
        "colab": {}
      },
      "source": [
        "ndf = pd.read_csv('Nifty50.csv')\n",
        "ndf.Date = pd.to_datetime(ndf['Date'])\n",
        "ndf = ndf.set_index('Date')\n",
        "\n",
        "ndf['pctch_open_close'] = (ndf.Close - ndf.Open)/ndf.Open *100\n",
        "ndf['pctch_low_high'] = (ndf.High - ndf.Low)/ndf.Low *100\n",
        "ndf['rolling_mean5'] = ndf['Close'].rolling(5).mean()\n",
        "ndf[\"std5\"] = ndf['Close'].rolling(5).std()\n",
        "\n",
        "l=[]\n",
        "for i in range(ndf.Close[:-1].shape[0]):\n",
        "    if ndf.Close[i] < ndf.Close[i+1]:\n",
        "        l.append(1)\n",
        "    elif ndf.Close[i] > ndf.Close[i+1]:\n",
        "        l.append(-1)\n",
        "    else: \n",
        "        l.append(\"NaN\")\n",
        "l.append('NaN')\n",
        "\n",
        "ndf[\"Action\"] = np.array([l]).reshape((len(l),1))\n",
        "ndf = ndf.dropna()\n",
        "\n",
        "X = ndf[['pctch_open_close', 'pctch_low_high', 'rolling_mean5', \"std5\"]].values\n",
        "Y = ndf.Action.values\n",
        "X_train, X_test, Y_train, Y_test = train_test_split(X, Y, test_size=0.3, random_state=42)"
      ],
      "execution_count": 0,
      "outputs": []
    },
    {
      "cell_type": "code",
      "metadata": {
        "id": "inAe4bcMyHbZ",
        "colab_type": "code",
        "colab": {
          "base_uri": "https://localhost:8080/",
          "height": 33
        },
        "outputId": "d0101745-6c72-4d4d-ea0b-a1bc18da20ad"
      },
      "source": [
        "# _______________________________ Random Forest _________________________________\n",
        "from sklearn.ensemble import RandomForestClassifier\n",
        "from sklearn import metrics\n",
        "\n",
        "random_forest = RandomForestClassifier(n_estimators=50, random_state=42)\n",
        "random_forest.fit(X_train, Y_train)\n",
        "Y_pred = random_forest.predict(X_test)\n",
        "\n",
        "print(\"Accuracy:\",metrics.accuracy_score(Y_pred, Y_test))"
      ],
      "execution_count": 11,
      "outputs": [
        {
          "output_type": "stream",
          "text": [
            "Accuracy: 0.5714285714285714\n"
          ],
          "name": "stdout"
        }
      ]
    },
    {
      "cell_type": "code",
      "metadata": {
        "id": "BcSRj_z-yJy-",
        "colab_type": "code",
        "colab": {
          "base_uri": "https://localhost:8080/",
          "height": 373
        },
        "outputId": "5cc4205c-939a-4275-8910-1c1b25f98951"
      },
      "source": [
        "# pridicting the entire column\n",
        "pridicted_Y = random_forest.predict(X)[:-1].astype('int')\n",
        "pridicted_Y = np.hstack((1, pridicted_Y))\n",
        "\n",
        "raw = np.array([i*j for i, j in zip(pridicted_Y, ndf.Close)])\n",
        "\n",
        "# starting with no loss i.e. 1 and if their is jump from loss to profit\n",
        "# we buy the stock and make the profit when it gets rise(thats why their \n",
        "# is abs for privious stock price) else their is loss(buying at higher \n",
        "# and getting price dropped). \n",
        "\n",
        "temp = [1, ]\n",
        "\n",
        "for i in range(1, len(pridicted_Y)):\n",
        "    if pridicted_Y[i] < 1:\n",
        "        continue    \n",
        "    else:\n",
        "        profit = (ndf.Close[i] - abs(ndf.Close[i-1])) / abs(ndf.Close[i-1])\n",
        "        temp.append(profit)\n",
        "\n",
        "\n",
        "returns_perc = []\n",
        "for i in range(1, len(temp)):\n",
        "    returns_perc.append(np.sum(temp[:i]))\n",
        "\n",
        "fig, ax  = plt.subplots(figsize=(15, 6))\n",
        "ax.plot(range(len(returns_perc)), returns_perc)\n",
        "plt.show()"
      ],
      "execution_count": 12,
      "outputs": [
        {
          "output_type": "display_data",
          "data": {
            "image/png": "[encoded data removed]",
            "text/plain": [
              "<Figure size 1080x432 with 1 Axes>"
            ]
          },
          "metadata": {
            "tags": [],
            "needs_background": "light"
          }
        }
      ]
    },
    {
      "cell_type": "code",
      "metadata": {
        "id": "NGrK6zWhyO38",
        "colab_type": "code",
        "colab": {}
      },
      "source": [
        ""
      ],
      "execution_count": 0,
      "outputs": []
    }
  ]
}